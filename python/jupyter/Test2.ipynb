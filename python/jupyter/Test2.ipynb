{
 "cells": [
  {
   "cell_type": "code",
   "execution_count": 1,
   "metadata": {},
   "outputs": [
    {
     "name": "stdout",
     "output_type": "stream",
     "text": [
      "The value of i is 0\n",
      "The value of i is 1\n",
      "The value of i is 2\n"
     ]
    }
   ],
   "source": [
    "for i in range(3):\n",
    "    print(f'The value of i is {i}')"
   ]
  },
  {
   "cell_type": "code",
   "execution_count": 5,
   "metadata": {},
   "outputs": [
    {
     "name": "stdout",
     "output_type": "stream",
     "text": [
      "[3, 2, 1, 0, 1, 4]\n",
      "[3, 2, 1, 0, 1, 4]\n"
     ]
    }
   ],
   "source": [
    "def gfg(x=int,li=[]): \n",
    "\tfor i in range(x): \n",
    "\t\tli.append(i*i)\n",
    "\tprint(li) \n",
    "f_list = [3,2,1]\n",
    "gfg(3,f_list) \n",
    "print(f_list) "
   ]
  }
 ],
 "metadata": {
  "kernelspec": {
   "display_name": "Python 3",
   "language": "python",
   "name": "python3"
  },
  "language_info": {
   "codemirror_mode": {
    "name": "ipython",
    "version": 3
   },
   "file_extension": ".py",
   "mimetype": "text/x-python",
   "name": "python",
   "nbconvert_exporter": "python",
   "pygments_lexer": "ipython3",
   "version": "3.12.1"
  }
 },
 "nbformat": 4,
 "nbformat_minor": 2
}
