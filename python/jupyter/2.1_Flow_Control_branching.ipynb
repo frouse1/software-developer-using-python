{
 "cells": [
  {
   "cell_type": "markdown",
   "metadata": {},
   "source": [
    "if, elif, else, nested and compound conditional expressions"
   ]
  }
 ],
 "metadata": {
  "language_info": {
   "name": "python"
  }
 },
 "nbformat": 4,
 "nbformat_minor": 2
}
