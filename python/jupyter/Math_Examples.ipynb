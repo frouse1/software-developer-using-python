{
 "cells": [
  {
   "cell_type": "markdown",
   "id": "a26700db",
   "metadata": {},
   "source": [
    "# Running through the math libary examples\n",
    "\n",
    "fabs, ceil, floor, trunc, fmod, frexp, nan, isnan, sqrt, isqrt, pow, pi"
   ]
  },
  {
   "cell_type": "code",
   "execution_count": 23,
   "id": "574ee87a",
   "metadata": {},
   "outputs": [
    {
     "name": "stdout",
     "output_type": "stream",
     "text": [
      "The fabs value of 3.5 is 3.5\n",
      "The fabs value of -3.5 is 3.5\n",
      "The ceil value of 3.5 is 4\n",
      "The data type from a ceil is <class 'int'>\n",
      "The data type of a float is <class 'float'>\n",
      "The floor value of 3.5 is 3\n",
      "The floor value of -3.5 is -4\n",
      "The trunc value of 3.5 is 3\n",
      "The trunc value of -3.5 is -3\n",
      "The fmod value of 8 and 3 is 2.0\n",
      "The fmod value of -8 and 3 is -2.0\n",
      "The mantissa of 16 is 0.5\n",
      "The exponent of 16 is 5\n",
      "The reconstructed number is 16.0\n",
      "The mantissa of 23000000000000 is 0.6536993168992922\n",
      "The exponent of 23000000000000 is 45\n",
      "The reconstructed number is 23000000000000.0\n",
      "The sqare root of 13 is 3.605551275463989\n",
      "The integer sqare root of 13 is 3\n",
      "The number 4 raised to the power of -3 is 0.015625\n",
      "The value of pi from math is 3.141592653589793\n"
     ]
    }
   ],
   "source": [
    "import math\n",
    "\n",
    "# fabs\n",
    "x = 3.5\n",
    "print(f'The fabs value of 3.5 is {math.fabs(x)}')\n",
    "x = -3.5\n",
    "print(f'The fabs value of -3.5 is {math.fabs(-3.5)}')\n",
    "\n",
    "# ceil\n",
    "x = math.ceil(3.5)\n",
    "print(f'The ceil value of 3.5 is {x}')\n",
    "print(f'The data type from a ceil is {type(x)}')\n",
    "y = 2.0\n",
    "print(f'The data type of a float is {type(y)}')\n",
    "\n",
    "# floor\n",
    "x = 3.5\n",
    "print(f'The floor value of 3.5 is {math.floor(x)}')\n",
    "x = - 3.5\n",
    "print(f'The floor value of -3.5 is {math.floor(x)}')\n",
    "\n",
    "# trunc\n",
    "x = 3.5\n",
    "print(f'The trunc value of 3.5 is {math.trunc(x)}')\n",
    "x = - 3.5\n",
    "print(f'The trunc value of -3.5 is {math.trunc(x)}')\n",
    "\n",
    "# fmod\n",
    "x = 8\n",
    "y = 3\n",
    "print(f'The fmod value of {x} and {y} is {math.fmod(x,y)}')\n",
    "x = -8\n",
    "y = 3\n",
    "print(f'The fmod value of {x} and {y} is {math.fmod(x,y)}')\n",
    "\n",
    "# frexp\n",
    "x = 16\n",
    "man1, exp1 = math.frexp(x)\n",
    "print(f'The mantissa of {x} is {man1}')\n",
    "print(f'The exponent of {x} is {exp1}')\n",
    "recon_x = man1 * (2 ** exp1)\n",
    "print(f'The reconstructed number is {recon_x}')\n",
    "x = 23000000000000\n",
    "man1, exp1 = math.frexp(x)\n",
    "print(f'The mantissa of {x} is {man1}')\n",
    "print(f'The exponent of {x} is {exp1}')\n",
    "recon_x = man1 * (2 ** exp1)\n",
    "print(f'The reconstructed number is {recon_x}')\n",
    "# nan\n",
    "# isnan\n",
    "# sqrt\n",
    "# isqrt\n",
    "x = 13\n",
    "print(f'The sqare root of {x} is {math.sqrt(x)}')\n",
    "print(f'The integer sqare root of {x} is {math.isqrt(x)}')\n",
    "# pow\n",
    "x = 4\n",
    "y = -3\n",
    "print(f'The number {x} raised to the power of {y} is {math.pow(x,y)}')\n",
    "# pi\n",
    "print(f'The value of pi from math is {math.pi}')"
   ]
  }
 ],
 "metadata": {
  "kernelspec": {
   "display_name": "Python 3",
   "language": "python",
   "name": "python3"
  },
  "language_info": {
   "codemirror_mode": {
    "name": "ipython",
    "version": 3
   },
   "file_extension": ".py",
   "mimetype": "text/x-python",
   "name": "python",
   "nbconvert_exporter": "python",
   "pygments_lexer": "ipython3",
   "version": "3.11.3"
  }
 },
 "nbformat": 4,
 "nbformat_minor": 5
}
