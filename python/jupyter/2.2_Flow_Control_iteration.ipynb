{
 "cells": [
  {
   "cell_type": "markdown",
   "metadata": {},
   "source": [
    "while, for, break, continue, pass, nested loops, loops that include compound\n",
    "conditional expressions"
   ]
  },
  {
   "cell_type": "code",
   "execution_count": 56,
   "metadata": {},
   "outputs": [
    {
     "name": "stdout",
     "output_type": "stream",
     "text": [
      "The key is 1\n",
      "The type of info is <class 'int'>\n",
      "The info is 1\n",
      "The type of info is <class 'int'>\n",
      "The info is 2\n",
      "The type of info is <class 'int'>\n",
      "The info is 3\n",
      "The type of info is <class 'int'>\n",
      "The info is 4\n",
      "The key is 2\n",
      "The type of info is <class 'int'>\n",
      "The info is 6\n",
      "The type of info is <class 'int'>\n",
      "The info is 7\n",
      "The type of info is <class 'int'>\n",
      "The info is 8\n",
      "The key is 3\n",
      "The type of info is <class 'str'>\n",
      "The value from the dict is 4\n",
      "The type of info is <class 'str'>\n",
      "The value from the dict is 5\n"
     ]
    }
   ],
   "source": [
    "# Nested loops.\n",
    "# Loops within loops\n",
    "\n",
    "x = {1:[1,2,3,4], 2:(6,7,8), 3:{\"frank\":4,\"lisa\":5}}\n",
    "\n",
    "for key in x:\n",
    "    print(f'The key is {key}')\n",
    "    for info in x[key]:\n",
    "        print(f'The type of info is {type(info)}')\n",
    "        if type(info) == str:\n",
    "            print(f'The value from the dict is {x[key][info]}')\n",
    "        else:\n",
    "            print(f'The info is {info}')"
   ]
  },
  {
   "cell_type": "code",
   "execution_count": 73,
   "metadata": {},
   "outputs": [
    {
     "name": "stdout",
     "output_type": "stream",
     "text": [
      "z < 1 False\n",
      "The current values of x, y and z are 7 4 2\n",
      "The current values of x, y and z are 14 8 3\n"
     ]
    }
   ],
   "source": [
    "# Multiple condition loops\n",
    "\n",
    "x = 7\n",
    "y = 4\n",
    "z = 2\n",
    "print(f'z < 1 {z<1}')\n",
    "while (z < 5 and x + y < 23) or z < 1:\n",
    "    print(f'The current values of x, y and z are {x} {y} {z}')\n",
    "    x+=x\n",
    "    y+=y\n",
    "    z+=1"
   ]
  },
  {
   "cell_type": "code",
   "execution_count": 74,
   "metadata": {},
   "outputs": [
    {
     "name": "stdout",
     "output_type": "stream",
     "text": [
      "x is now 1\n",
      "x is now 2\n"
     ]
    },
    {
     "ename": "AttributeError",
     "evalue": "'int' object has no attribute 'items'",
     "output_type": "error",
     "traceback": [
      "\u001b[31m---------------------------------------------------------------------------\u001b[39m",
      "\u001b[31mAttributeError\u001b[39m                            Traceback (most recent call last)",
      "\u001b[36mCell\u001b[39m\u001b[36m \u001b[39m\u001b[32mIn[74]\u001b[39m\u001b[32m, line 16\u001b[39m\n\u001b[32m     13\u001b[39m \u001b[38;5;28;01mfor\u001b[39;00m next_num, v \u001b[38;5;129;01min\u001b[39;00m x:\n\u001b[32m     14\u001b[39m     \u001b[38;5;28mprint\u001b[39m(\u001b[33mf\u001b[39m\u001b[33m'\u001b[39m\u001b[33mx is now \u001b[39m\u001b[38;5;132;01m{\u001b[39;00mnext_num\u001b[38;5;132;01m}\u001b[39;00m\u001b[33m'\u001b[39m)\n\u001b[32m---> \u001b[39m\u001b[32m16\u001b[39m \u001b[38;5;28mprint\u001b[39m(\u001b[33mf\u001b[39m\u001b[33m'\u001b[39m\u001b[33mcontent of y is \u001b[39m\u001b[38;5;132;01m{\u001b[39;00m\u001b[43my\u001b[49m\u001b[43m.\u001b[49m\u001b[43mitems\u001b[49m()\u001b[38;5;132;01m}\u001b[39;00m\u001b[33m'\u001b[39m)\n\u001b[32m     18\u001b[39m y = {\u001b[32m1\u001b[39m:\u001b[33m\"\u001b[39m\u001b[33mFrank\u001b[39m\u001b[33m\"\u001b[39m, \u001b[32m2\u001b[39m:\u001b[33m\"\u001b[39m\u001b[33mCorinna\u001b[39m\u001b[33m\"\u001b[39m}\n\u001b[32m     19\u001b[39m \u001b[38;5;66;03m# You can loop through a dictionary but you will only get the key value\u001b[39;00m\n",
      "\u001b[31mAttributeError\u001b[39m: 'int' object has no attribute 'items'"
     ]
    }
   ],
   "source": [
    "# interable for loops\n",
    "# Any data structure that is iterable can be used in a for loop\n",
    "# as shown below\n",
    "\n",
    "# Tuple interation\n",
    "x = (1,2,3,4,5)\n",
    "# List interation\n",
    "x = [1,2,3,4,5,6,7,8]\n",
    "\n",
    "x = [(1, \"Roger\"), (2, \"Sandy\")]\n",
    "\n",
    "\n",
    "for next_num, v in x:\n",
    "    print(f'x is now {next_num}')\n",
    "\n",
    "print(f'content of y is {y.items()}')\n",
    "\n",
    "y = {1:\"Frank\", 2:\"Corinna\"}\n",
    "# You can loop through a dictionary but you will only get the key value\n",
    "\n",
    "for x in y:\n",
    "    print(f'The value of x is {x}')\n",
    "    # You could then use the key to find the value\n",
    "    print(f'The item at {x} is {y[x]}')\n",
    "\n",
    "# If you want both the key and value from the for loop you must\n",
    "# use the items dictionary function.\n",
    "# This returns a list of tuples of the key value pairs.\n",
    "# The order of this list is not guarenteed.\n",
    "for k,v in y.items():\n",
    "    print(f'key is {k}')\n",
    "    print(f'values is {v}')\n",
    "\n"
   ]
  },
  {
   "cell_type": "code",
   "execution_count": null,
   "metadata": {},
   "outputs": [
    {
     "name": "stdout",
     "output_type": "stream",
     "text": [
      "The value of x is 1\n",
      "The value of x is 3\n",
      "The value of x is 5\n",
      "The value of x is 7\n",
      "The value of x is 9\n"
     ]
    }
   ],
   "source": [
    "# continue will short circuit the loop and start a new interation\n",
    "\n",
    "x = [1,2,3,4,5,6,7,8,9]\n",
    "\n",
    "for newNum in x:\n",
    "    if newNum%2 == 0:\n",
    "        continue\n",
    "    print(f'The value of x is {newNum}')"
   ]
  }
 ],
 "metadata": {
  "kernelspec": {
   "display_name": "Python 3",
   "language": "python",
   "name": "python3"
  },
  "language_info": {
   "codemirror_mode": {
    "name": "ipython",
    "version": 3
   },
   "file_extension": ".py",
   "mimetype": "text/x-python",
   "name": "python",
   "nbconvert_exporter": "python",
   "pygments_lexer": "ipython3",
   "version": "3.11.3"
  }
 },
 "nbformat": 4,
 "nbformat_minor": 2
}
