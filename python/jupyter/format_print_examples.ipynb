{
 "cells": [
  {
   "cell_type": "code",
   "execution_count": 11,
   "metadata": {},
   "outputs": [
    {
     "name": "stdout",
     "output_type": "stream",
     "text": [
      "My name is hello, I'm 36. I hate my name of John\n"
     ]
    }
   ],
   "source": [
    "\n",
    "print(\"My name is {2}, I'm {1}. I hate my name of {0}\".format('John',36, \"hello\"))"
   ]
  },
  {
   "cell_type": "code",
   "execution_count": null,
   "metadata": {},
   "outputs": [
    {
     "name": "stdout",
     "output_type": "stream",
     "text": [
      "We have 49       chickens.\n",
      "We have 432      chickens.\n",
      "We have  49 chickens.\n",
      "We have 432 chickens.\n",
      "We have  49   chickens.\n",
      "We have  432  chickens.\n"
     ]
    }
   ],
   "source": [
    "# Left Justified\n",
    "txt = \"We have {:<8} chickens.\"\n",
    "print(txt.format(49))\n",
    "print(txt.format(432))\n",
    "# Right Justified\n",
    "print(f'Center justified')\n",
    "txt = \"We have {:>3} chickens.\"\n",
    "print(txt.format(49))\n",
    "print(txt.format(432))\n",
    "# Center Justified\n",
    "print(f'Center justified')\n",
    "txt = \"We have {:^5} chickens.\"\n",
    "print(txt.format(49))\n",
    "print(txt.format(432))"
   ]
  },
  {
   "cell_type": "code",
   "execution_count": 35,
   "metadata": {},
   "outputs": [
    {
     "name": "stdout",
     "output_type": "stream",
     "text": [
      "The universe is 13,800,000,000          years old Frank.\n",
      "I have 0.33 nickels\n"
     ]
    }
   ],
   "source": [
    "txt = \"The universe is {0:<23,} years old {1:>}.\"\n",
    "\n",
    "print(txt.format(13800000000, \"Frank\"))\n",
    "print('I have {:.2f} nickels'.format(.3343))"
   ]
  }
 ],
 "metadata": {
  "kernelspec": {
   "display_name": "Python 3",
   "language": "python",
   "name": "python3"
  },
  "language_info": {
   "codemirror_mode": {
    "name": "ipython",
    "version": 3
   },
   "file_extension": ".py",
   "mimetype": "text/x-python",
   "name": "python",
   "nbconvert_exporter": "python",
   "pygments_lexer": "ipython3",
   "version": "3.11.3"
  }
 },
 "nbformat": 4,
 "nbformat_minor": 2
}
